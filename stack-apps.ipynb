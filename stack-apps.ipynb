{
 "cells": [
  {
   "cell_type": "markdown",
   "metadata": {},
   "source": [
    "# Stack Applications"
   ]
  },
  {
   "cell_type": "markdown",
   "metadata": {},
   "source": [
    "## Overview\n",
    "\n",
    "For this assignment you will build on the stack data structure created in class to develop two distinct stack-driven applications.\n",
    "\n",
    "Below is the completed stack implementation from class. While you needn't modify it for this assignment — indeed, all tests run on our end will *not* make use of any changes you introduce to the `Stack` class — we urge you to read through the code and make sure you understand how it works."
   ]
  },
  {
   "cell_type": "code",
   "execution_count": 91,
   "metadata": {
    "collapsed": true,
    "deletable": false,
    "nbgrader": {
     "checksum": "d05366b0e7d44710d36522cc8afb8e29",
     "grade": false,
     "grade_id": "stack_impl",
     "locked": true,
     "solution": false
    }
   },
   "outputs": [],
   "source": [
    "class Stack:\n",
    "    class Node:\n",
    "        def __init__(self, val, next=None):\n",
    "            self.val = val\n",
    "            self.next  = next\n",
    "    \n",
    "    def __init__(self):\n",
    "        self.top = None\n",
    "\n",
    "    def push(self, val):\n",
    "        self.top = Stack.Node(val, self.top)\n",
    "        \n",
    "    def pop(self):\n",
    "        assert self.top, 'Stack is empty'\n",
    "        val = self.top.val\n",
    "        self.top = self.top.next\n",
    "        return val\n",
    "    \n",
    "    def peek(self):\n",
    "        return self.top.val if self.top else None\n",
    "    \n",
    "    def empty(self):\n",
    "        return self.top == None\n",
    "    \n",
    "    def __bool__(self):\n",
    "        return not self.empty()\n",
    "    \n",
    "    def __repr__(self):\n",
    "        if not self.top:\n",
    "            return ''\n",
    "        return '--> ' + ', '.join(str(x) for x in self)\n",
    "    \n",
    "    def __iter__(self):\n",
    "        n = self.top\n",
    "        while n:\n",
    "            yield n.val\n",
    "            n = n.next"
   ]
  },
  {
   "cell_type": "markdown",
   "metadata": {},
   "source": [
    "### 1. Paired delimiter matching\n",
    "\n",
    "In class we wrote a function that uses a stack to help determine whether all paired delimiters (e.g., parentheses) in a given string are correctly matched — you can review the code at http://moss.cs.iit.edu/cs331/notebooks/stacks-and-queues.html (look for `check_parens`).\n",
    "\n",
    "For this first exercise you will extend our implementation to check all the following paired delimiters: `{}, (), [], <>`. We've defined two strings — `delim_openers` and `delim_closers` — that might come in handy in your implementation (hint: look into using the `index` sequence method).  "
   ]
  },
  {
   "cell_type": "code",
   "execution_count": 92,
   "metadata": {
    "collapsed": false,
    "deletable": false,
    "nbgrader": {
     "checksum": "56ed4e10725fa4e06f5557c68c10b495",
     "grade": false,
     "grade_id": "check_delim",
     "locked": false,
     "solution": true
    }
   },
   "outputs": [],
   "source": [
    "delim_openers = '{([<'\n",
    "delim_closers = '})]>'\n",
    "\n",
    "def check_delimiters(expr):\n",
    "    \"\"\"Returns True if and only if `expr` contains only correctly matched delimiters, else returns False.\"\"\"\n",
    "    s = Stack()\n",
    "    for c in expr:\n",
    "        for i in delim_openers:\n",
    "            if c == i: \n",
    "                s.push(c)\n",
    "        for j in range(len(delim_closers)):\n",
    "            if c == delim_closers[j]:\n",
    "                if s.peek() == delim_openers[j]:\n",
    "                    s.pop()\n",
    "                elif s.peek() == None:\n",
    "                    return False\n",
    "                \n",
    "    if s.peek() is not None:\n",
    "        return False\n",
    "    else:\n",
    "        return True\n",
    "\n",
    "        \n",
    "    "
   ]
  },
  {
   "cell_type": "code",
   "execution_count": 93,
   "metadata": {
    "collapsed": false,
    "deletable": false,
    "nbgrader": {
     "checksum": "c3b353291a51eae1261a46819f94363f",
     "grade": true,
     "grade_id": "check_delim_1",
     "locked": true,
     "points": 1,
     "solution": false
    }
   },
   "outputs": [],
   "source": [
    "from unittest import TestCase\n",
    "tc = TestCase()\n",
    "tc.assertTrue(check_delimiters('()'))\n",
    "tc.assertTrue(check_delimiters('[]'))\n",
    "tc.assertTrue(check_delimiters('{}'))\n",
    "tc.assertTrue(check_delimiters('<>'))"
   ]
  },
  {
   "cell_type": "code",
   "execution_count": 94,
   "metadata": {
    "collapsed": false,
    "deletable": false,
    "nbgrader": {
     "checksum": "3b3966a48be9e161944f30aab8b6be81",
     "grade": true,
     "grade_id": "check_delim_2",
     "locked": true,
     "points": 1,
     "solution": false
    }
   },
   "outputs": [],
   "source": [
    "from unittest import TestCase\n",
    "tc = TestCase()\n",
    "tc.assertTrue(check_delimiters('([])'))\n",
    "tc.assertTrue(check_delimiters('[{}]'))\n",
    "tc.assertTrue(check_delimiters('{<()>}'))\n",
    "tc.assertTrue(check_delimiters('<({[]})>'))"
   ]
  },
  {
   "cell_type": "code",
   "execution_count": 95,
   "metadata": {
    "collapsed": false,
    "deletable": false,
    "nbgrader": {
     "checksum": "6ad725035d8fb2baaf853d804baa1545",
     "grade": true,
     "grade_id": "check_delim_3",
     "locked": true,
     "points": 2,
     "solution": false
    }
   },
   "outputs": [],
   "source": [
    "from unittest import TestCase\n",
    "tc = TestCase()\n",
    "tc.assertTrue(check_delimiters('([] () <> [])'))\n",
    "tc.assertTrue(check_delimiters('[{()} [] (<> <>) {}]'))\n",
    "tc.assertTrue(check_delimiters('{} <> () []'))\n",
    "tc.assertTrue(check_delimiters('<> ([] <()>) <[] [] <> <>>'))"
   ]
  },
  {
   "cell_type": "code",
   "execution_count": 96,
   "metadata": {
    "collapsed": false,
    "deletable": false,
    "nbgrader": {
     "checksum": "73e01185488f04c0a12d6db825272d4b",
     "grade": true,
     "grade_id": "check_delim_4",
     "locked": true,
     "points": 1,
     "solution": false
    }
   },
   "outputs": [],
   "source": [
    "from unittest import TestCase\n",
    "tc = TestCase()\n",
    "tc.assertFalse(check_delimiters('('))\n",
    "tc.assertFalse(check_delimiters('['))\n",
    "tc.assertFalse(check_delimiters('{'))\n",
    "tc.assertFalse(check_delimiters('<'))\n",
    "tc.assertFalse(check_delimiters(')'))\n",
    "tc.assertFalse(check_delimiters(']'))\n",
    "tc.assertFalse(check_delimiters('}'))\n",
    "tc.assertFalse(check_delimiters('>'))"
   ]
  },
  {
   "cell_type": "code",
   "execution_count": 97,
   "metadata": {
    "collapsed": false,
    "deletable": false,
    "nbgrader": {
     "checksum": "21053ee4fc4961a0cfcf1203572a94b0",
     "grade": true,
     "grade_id": "check_delim_5",
     "locked": true,
     "points": 1,
     "solution": false
    }
   },
   "outputs": [],
   "source": [
    "from unittest import TestCase\n",
    "tc = TestCase()\n",
    "tc.assertFalse(check_delimiters('( ]'))\n",
    "tc.assertFalse(check_delimiters('[ )'))\n",
    "tc.assertFalse(check_delimiters('{ >'))\n",
    "tc.assertFalse(check_delimiters('< )'))"
   ]
  },
  {
   "cell_type": "code",
   "execution_count": 98,
   "metadata": {
    "collapsed": false,
    "deletable": false,
    "nbgrader": {
     "checksum": "ac554047294eadee28184b318bcc7b72",
     "grade": true,
     "grade_id": "check_delim_6",
     "locked": true,
     "points": 2,
     "solution": false
    }
   },
   "outputs": [],
   "source": [
    "from unittest import TestCase\n",
    "tc = TestCase()\n",
    "tc.assertFalse(check_delimiters('[ ( ] )'))\n",
    "tc.assertFalse(check_delimiters('((((((( ))))))'))\n",
    "tc.assertFalse(check_delimiters('< < > > >'))\n",
    "tc.assertFalse(check_delimiters('( [] < {} )'))"
   ]
  },
  {
   "cell_type": "markdown",
   "metadata": {},
   "source": [
    "### 2. Infix &rarr; Postfix conversion\n",
    "\n",
    "Another function we looked at was one that used a stack to evaluate a postfix arithmetic expression — you can review the code at http://moss.cs.iit.edu/cs331/notebooks/stacks-and-queues.html (look for `eval_postfix`). Because most of us are more accustomed to infix-form arithmetic expressions (e.g., `2 * (3 + 4)`), however, the function seems to be of limited use. The good news: we can use a stack to convert an infix expression to postfix form!\n",
    "\n",
    "To do so, we will use the following algorithm:\n",
    "\n",
    "1. Start with an empty list and an empty stack. At the end of the algorithm, the list will contain the correctly ordered tokens of the postfix expression.\n",
    "\n",
    "2. Next, for each token in the expression (split on whitespace):\n",
    "\n",
    "    - if the token is a digit (the string `isdigit` method can be used to determine this), simply append it to the list; else, the token must be either an operator or an opening or closing parenthesis, in which case apply one of the following options:\n",
    "\n",
    "    - if the stack is empty or contains a left parenthesis on top, push the token onto the stack.\n",
    "\n",
    "    - if the token is a left parenthesis, push it on the stack.\n",
    "\n",
    "    - if the token is a right parenthesis, pop the stack and append all operators to the list until a left parenthesis is popped. Discard the pair of parentheses.\n",
    "\n",
    "    - if the token has higher precedence than the top of the stack, push it on the stack. For our purposes, the only operators are +, -, *, /, where the latter two have higher precedecence than the first two.\n",
    "\n",
    "    - if the token has equal precedence with the top of the stack, pop and append the top of the stack to the list and then push the incoming operator.\n",
    "\n",
    "    - if the incoming symbol has lower precedence than the symbol on the top of the stack, pop the stack and append it to the list. Then repeat the above tests against the new top of stack.\n",
    "\n",
    "3. After arriving at the end of the expression, pop and append all operators on the stack to the list.\n",
    "\n",
    "A writeup containing a detailed explanation of the steps above (though it prints the tokens immediately rather than adding them to a list) can be found at http://csis.pace.edu/~wolf/CS122/infix-postfix.htm"
   ]
  },
  {
   "cell_type": "code",
   "execution_count": 99,
   "metadata": {
    "collapsed": false,
    "deletable": false,
    "nbgrader": {
     "checksum": "39060000c304e5f357adee291c033b55",
     "grade": false,
     "grade_id": "infix_to_postfix",
     "locked": false,
     "solution": true
    }
   },
   "outputs": [],
   "source": [
    "# you may find the following precedence dictionary useful\n",
    "prec = {'*': 2, '/': 2,\n",
    "        '+': 1, '-': 1}\n",
    "\n",
    "def infix_to_postfix(expr):\n",
    "    \"\"\"Returns the postfix form of the infix expression found in `expr`\"\"\"\n",
    "    ops = Stack()\n",
    "    postfix = []\n",
    "    toks = expr.split()\n",
    "    for i in range(len(toks)):\n",
    "        c = toks[i]\n",
    "        if c.isdigit():\n",
    "            postfix.append(c)\n",
    "        elif (ops.peek() == None) or (ops.peek()==\"(\"):\n",
    "            ops.push(c)\n",
    "        elif c == \"(\":\n",
    "            ops.push(c)\n",
    "        elif c ==\")\":\n",
    "            while ops.peek() != \"(\":\n",
    "                postfix.append(ops.pop())\n",
    "            ops.pop()\n",
    "        else: \n",
    "            if prec[c] > prec[ops.peek()]:\n",
    "                ops.push(c)\n",
    "            elif prec[c] == prec[ops.peek()]:\n",
    "                postfix.append(ops.pop())\n",
    "                ops.push(c)\n",
    "            else:\n",
    "                while ops.peek() != None:\n",
    "                    if prec[c] < prec[ops.peek()]:\n",
    "                        postfix.append(ops.pop())\n",
    "                if ops.peek() != None:\n",
    "                    if prec[c] > prec[ops.peek()]:\n",
    "                        ops.push(c)\n",
    "                    elif prec[c] == prec[ops.peek()]:\n",
    "                        postfix.append(ops.pop())\n",
    "                        ops.push(c)\n",
    "                elif ops.peek() == None:\n",
    "                    ops.push(c)\n",
    "                \n",
    "        if i == len(toks)-1:\n",
    "            while ops.peek() != None:\n",
    "                postfix.append(ops.pop())\n",
    "                \n",
    "                \n",
    "                \n",
    "    return ' '.join(postfix)"
   ]
  },
  {
   "cell_type": "code",
   "execution_count": 100,
   "metadata": {
    "collapsed": false,
    "deletable": false,
    "nbgrader": {
     "checksum": "030249780c8dce2d7c1ea9dc1dd22c82",
     "grade": true,
     "grade_id": "i_to_p_tests_1",
     "locked": true,
     "points": 3,
     "solution": false
    }
   },
   "outputs": [],
   "source": [
    "from unittest import TestCase\n",
    "tc = TestCase()\n",
    "tc.assertEqual(infix_to_postfix('1'), '1')\n",
    "tc.assertEqual(infix_to_postfix('1 + 2'), '1 2 +')\n",
    "tc.assertEqual(infix_to_postfix('( 1 + 2 )'), '1 2 +')\n",
    "tc.assertEqual(infix_to_postfix('1 + 2 - 3'), '1 2 + 3 -')\n",
    "tc.assertEqual(infix_to_postfix('1 + ( 2 - 3 )'), '1 2 3 - +')"
   ]
  },
  {
   "cell_type": "code",
   "execution_count": 101,
   "metadata": {
    "collapsed": false,
    "deletable": false,
    "nbgrader": {
     "checksum": "8d2f52737e3626ebbe4bb6dc8a48e7da",
     "grade": true,
     "grade_id": "i_to_p_tests_2",
     "locked": true,
     "points": 3,
     "solution": false
    }
   },
   "outputs": [],
   "source": [
    "from unittest import TestCase\n",
    "tc = TestCase()\n",
    "tc.assertEqual(infix_to_postfix('1 + 2 * 3'), '1 2 3 * +')\n",
    "tc.assertEqual(infix_to_postfix('1 / 2 + 3 * 4'), '1 2 / 3 4 * +')\n",
    "tc.assertEqual(infix_to_postfix('1 * 2 * 3 + 4'), '1 2 * 3 * 4 +')\n",
    "tc.assertEqual(infix_to_postfix('1 + 2 * 3 * 4'), '1 2 3 * 4 * +')"
   ]
  },
  {
   "cell_type": "code",
   "execution_count": 102,
   "metadata": {
    "collapsed": false,
    "deletable": false,
    "nbgrader": {
     "checksum": "470efed6f712b1fdea9a8a84ffc25fb6",
     "grade": true,
     "grade_id": "i_to_p_tests_3",
     "locked": true,
     "points": 3,
     "solution": false
    }
   },
   "outputs": [],
   "source": [
    "from unittest import TestCase\n",
    "tc = TestCase()\n",
    "tc.assertEqual(infix_to_postfix('1 * ( 2 + 3 ) * 4'), '1 2 3 + * 4 *')\n",
    "tc.assertEqual(infix_to_postfix('1 * ( 2 + 3 * 4 ) + 5'), '1 2 3 4 * + * 5 +')\n",
    "tc.assertEqual(infix_to_postfix('1 * ( ( 2 + 3 ) * 4 ) * ( 5 - 6 )'), '1 2 3 + 4 * * 5 6 - *')"
   ]
  },
  {
   "cell_type": "code",
   "execution_count": null,
   "metadata": {
    "collapsed": true
   },
   "outputs": [],
   "source": []
  }
 ],
 "metadata": {
  "anaconda-cloud": {},
  "kernelspec": {
   "display_name": "Python 3",
   "language": "python",
   "name": "python3"
  },
  "language_info": {
   "codemirror_mode": {
    "name": "ipython",
    "version": 3
   },
   "file_extension": ".py",
   "mimetype": "text/x-python",
   "name": "python",
   "nbconvert_exporter": "python",
   "pygments_lexer": "ipython3",
   "version": "3.4.3"
  }
 },
 "nbformat": 4,
 "nbformat_minor": 0
}
